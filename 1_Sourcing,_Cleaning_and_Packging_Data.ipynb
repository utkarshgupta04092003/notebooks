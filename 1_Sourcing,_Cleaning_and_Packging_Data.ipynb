{
  "nbformat": 4,
  "nbformat_minor": 0,
  "metadata": {
    "colab": {
      "provenance": [],
      "authorship_tag": "ABX9TyPYaYWCqlI42zZWhhSaChZt",
      "include_colab_link": true
    },
    "kernelspec": {
      "name": "python3",
      "display_name": "Python 3"
    },
    "language_info": {
      "name": "python"
    },
    "widgets": {
      "application/vnd.jupyter.widget-state+json": {
        "918e9db0419547f4b24498e7c152cabe": {
          "model_module": "@jupyter-widgets/controls",
          "model_name": "HBoxModel",
          "model_module_version": "1.5.0",
          "state": {
            "_dom_classes": [],
            "_model_module": "@jupyter-widgets/controls",
            "_model_module_version": "1.5.0",
            "_model_name": "HBoxModel",
            "_view_count": null,
            "_view_module": "@jupyter-widgets/controls",
            "_view_module_version": "1.5.0",
            "_view_name": "HBoxView",
            "box_style": "",
            "children": [
              "IPY_MODEL_d9320651aa7e4473ab65e1998e7bca09",
              "IPY_MODEL_a4689711ef1147499c5bd187d903d8cb",
              "IPY_MODEL_1b37136e63ab4ba78d49bc6539110ff9"
            ],
            "layout": "IPY_MODEL_450a93f8ff9e4f199ebd2e5eea3a13eb"
          }
        },
        "d9320651aa7e4473ab65e1998e7bca09": {
          "model_module": "@jupyter-widgets/controls",
          "model_name": "HTMLModel",
          "model_module_version": "1.5.0",
          "state": {
            "_dom_classes": [],
            "_model_module": "@jupyter-widgets/controls",
            "_model_module_version": "1.5.0",
            "_model_name": "HTMLModel",
            "_view_count": null,
            "_view_module": "@jupyter-widgets/controls",
            "_view_module_version": "1.5.0",
            "_view_name": "HTMLView",
            "description": "",
            "description_tooltip": null,
            "layout": "IPY_MODEL_0dfddf6eb5e94f24abcf62b760370521",
            "placeholder": "​",
            "style": "IPY_MODEL_d0c812819ee54ad0b58f10155e20d829",
            "value": "Map: 100%"
          }
        },
        "a4689711ef1147499c5bd187d903d8cb": {
          "model_module": "@jupyter-widgets/controls",
          "model_name": "FloatProgressModel",
          "model_module_version": "1.5.0",
          "state": {
            "_dom_classes": [],
            "_model_module": "@jupyter-widgets/controls",
            "_model_module_version": "1.5.0",
            "_model_name": "FloatProgressModel",
            "_view_count": null,
            "_view_module": "@jupyter-widgets/controls",
            "_view_module_version": "1.5.0",
            "_view_name": "ProgressView",
            "bar_style": "success",
            "description": "",
            "description_tooltip": null,
            "layout": "IPY_MODEL_8212bbcf0ff0496a81d50f17a7116f56",
            "max": 62059,
            "min": 0,
            "orientation": "horizontal",
            "style": "IPY_MODEL_95321a870fec4b61a719a6edfac58148",
            "value": 62059
          }
        },
        "1b37136e63ab4ba78d49bc6539110ff9": {
          "model_module": "@jupyter-widgets/controls",
          "model_name": "HTMLModel",
          "model_module_version": "1.5.0",
          "state": {
            "_dom_classes": [],
            "_model_module": "@jupyter-widgets/controls",
            "_model_module_version": "1.5.0",
            "_model_name": "HTMLModel",
            "_view_count": null,
            "_view_module": "@jupyter-widgets/controls",
            "_view_module_version": "1.5.0",
            "_view_name": "HTMLView",
            "description": "",
            "description_tooltip": null,
            "layout": "IPY_MODEL_08ad87a3c6c54eda8a405736926e42ff",
            "placeholder": "​",
            "style": "IPY_MODEL_d7c6f51aaf0346d0a19ee19e9d6a080d",
            "value": " 62059/62059 [02:51&lt;00:00, 293.69 examples/s]"
          }
        },
        "450a93f8ff9e4f199ebd2e5eea3a13eb": {
          "model_module": "@jupyter-widgets/base",
          "model_name": "LayoutModel",
          "model_module_version": "1.2.0",
          "state": {
            "_model_module": "@jupyter-widgets/base",
            "_model_module_version": "1.2.0",
            "_model_name": "LayoutModel",
            "_view_count": null,
            "_view_module": "@jupyter-widgets/base",
            "_view_module_version": "1.2.0",
            "_view_name": "LayoutView",
            "align_content": null,
            "align_items": null,
            "align_self": null,
            "border": null,
            "bottom": null,
            "display": null,
            "flex": null,
            "flex_flow": null,
            "grid_area": null,
            "grid_auto_columns": null,
            "grid_auto_flow": null,
            "grid_auto_rows": null,
            "grid_column": null,
            "grid_gap": null,
            "grid_row": null,
            "grid_template_areas": null,
            "grid_template_columns": null,
            "grid_template_rows": null,
            "height": null,
            "justify_content": null,
            "justify_items": null,
            "left": null,
            "margin": null,
            "max_height": null,
            "max_width": null,
            "min_height": null,
            "min_width": null,
            "object_fit": null,
            "object_position": null,
            "order": null,
            "overflow": null,
            "overflow_x": null,
            "overflow_y": null,
            "padding": null,
            "right": null,
            "top": null,
            "visibility": null,
            "width": null
          }
        },
        "0dfddf6eb5e94f24abcf62b760370521": {
          "model_module": "@jupyter-widgets/base",
          "model_name": "LayoutModel",
          "model_module_version": "1.2.0",
          "state": {
            "_model_module": "@jupyter-widgets/base",
            "_model_module_version": "1.2.0",
            "_model_name": "LayoutModel",
            "_view_count": null,
            "_view_module": "@jupyter-widgets/base",
            "_view_module_version": "1.2.0",
            "_view_name": "LayoutView",
            "align_content": null,
            "align_items": null,
            "align_self": null,
            "border": null,
            "bottom": null,
            "display": null,
            "flex": null,
            "flex_flow": null,
            "grid_area": null,
            "grid_auto_columns": null,
            "grid_auto_flow": null,
            "grid_auto_rows": null,
            "grid_column": null,
            "grid_gap": null,
            "grid_row": null,
            "grid_template_areas": null,
            "grid_template_columns": null,
            "grid_template_rows": null,
            "height": null,
            "justify_content": null,
            "justify_items": null,
            "left": null,
            "margin": null,
            "max_height": null,
            "max_width": null,
            "min_height": null,
            "min_width": null,
            "object_fit": null,
            "object_position": null,
            "order": null,
            "overflow": null,
            "overflow_x": null,
            "overflow_y": null,
            "padding": null,
            "right": null,
            "top": null,
            "visibility": null,
            "width": null
          }
        },
        "d0c812819ee54ad0b58f10155e20d829": {
          "model_module": "@jupyter-widgets/controls",
          "model_name": "DescriptionStyleModel",
          "model_module_version": "1.5.0",
          "state": {
            "_model_module": "@jupyter-widgets/controls",
            "_model_module_version": "1.5.0",
            "_model_name": "DescriptionStyleModel",
            "_view_count": null,
            "_view_module": "@jupyter-widgets/base",
            "_view_module_version": "1.2.0",
            "_view_name": "StyleView",
            "description_width": ""
          }
        },
        "8212bbcf0ff0496a81d50f17a7116f56": {
          "model_module": "@jupyter-widgets/base",
          "model_name": "LayoutModel",
          "model_module_version": "1.2.0",
          "state": {
            "_model_module": "@jupyter-widgets/base",
            "_model_module_version": "1.2.0",
            "_model_name": "LayoutModel",
            "_view_count": null,
            "_view_module": "@jupyter-widgets/base",
            "_view_module_version": "1.2.0",
            "_view_name": "LayoutView",
            "align_content": null,
            "align_items": null,
            "align_self": null,
            "border": null,
            "bottom": null,
            "display": null,
            "flex": null,
            "flex_flow": null,
            "grid_area": null,
            "grid_auto_columns": null,
            "grid_auto_flow": null,
            "grid_auto_rows": null,
            "grid_column": null,
            "grid_gap": null,
            "grid_row": null,
            "grid_template_areas": null,
            "grid_template_columns": null,
            "grid_template_rows": null,
            "height": null,
            "justify_content": null,
            "justify_items": null,
            "left": null,
            "margin": null,
            "max_height": null,
            "max_width": null,
            "min_height": null,
            "min_width": null,
            "object_fit": null,
            "object_position": null,
            "order": null,
            "overflow": null,
            "overflow_x": null,
            "overflow_y": null,
            "padding": null,
            "right": null,
            "top": null,
            "visibility": null,
            "width": null
          }
        },
        "95321a870fec4b61a719a6edfac58148": {
          "model_module": "@jupyter-widgets/controls",
          "model_name": "ProgressStyleModel",
          "model_module_version": "1.5.0",
          "state": {
            "_model_module": "@jupyter-widgets/controls",
            "_model_module_version": "1.5.0",
            "_model_name": "ProgressStyleModel",
            "_view_count": null,
            "_view_module": "@jupyter-widgets/base",
            "_view_module_version": "1.2.0",
            "_view_name": "StyleView",
            "bar_color": null,
            "description_width": ""
          }
        },
        "08ad87a3c6c54eda8a405736926e42ff": {
          "model_module": "@jupyter-widgets/base",
          "model_name": "LayoutModel",
          "model_module_version": "1.2.0",
          "state": {
            "_model_module": "@jupyter-widgets/base",
            "_model_module_version": "1.2.0",
            "_model_name": "LayoutModel",
            "_view_count": null,
            "_view_module": "@jupyter-widgets/base",
            "_view_module_version": "1.2.0",
            "_view_name": "LayoutView",
            "align_content": null,
            "align_items": null,
            "align_self": null,
            "border": null,
            "bottom": null,
            "display": null,
            "flex": null,
            "flex_flow": null,
            "grid_area": null,
            "grid_auto_columns": null,
            "grid_auto_flow": null,
            "grid_auto_rows": null,
            "grid_column": null,
            "grid_gap": null,
            "grid_row": null,
            "grid_template_areas": null,
            "grid_template_columns": null,
            "grid_template_rows": null,
            "height": null,
            "justify_content": null,
            "justify_items": null,
            "left": null,
            "margin": null,
            "max_height": null,
            "max_width": null,
            "min_height": null,
            "min_width": null,
            "object_fit": null,
            "object_position": null,
            "order": null,
            "overflow": null,
            "overflow_x": null,
            "overflow_y": null,
            "padding": null,
            "right": null,
            "top": null,
            "visibility": null,
            "width": null
          }
        },
        "d7c6f51aaf0346d0a19ee19e9d6a080d": {
          "model_module": "@jupyter-widgets/controls",
          "model_name": "DescriptionStyleModel",
          "model_module_version": "1.5.0",
          "state": {
            "_model_module": "@jupyter-widgets/controls",
            "_model_module_version": "1.5.0",
            "_model_name": "DescriptionStyleModel",
            "_view_count": null,
            "_view_module": "@jupyter-widgets/base",
            "_view_module_version": "1.2.0",
            "_view_name": "StyleView",
            "description_width": ""
          }
        }
      }
    }
  },
  "cells": [
    {
      "cell_type": "markdown",
      "metadata": {
        "id": "view-in-github",
        "colab_type": "text"
      },
      "source": [
        "<a href=\"https://colab.research.google.com/github/utkarshgupta04092003/notebooks/blob/main/1_Sourcing%2C_Cleaning_and_Packging_Data.ipynb\" target=\"_parent\"><img src=\"https://colab.research.google.com/assets/colab-badge.svg\" alt=\"Open In Colab\"/></a>"
      ]
    },
    {
      "cell_type": "markdown",
      "source": [
        "## 1. Sourcing datasets for pretraining"
      ],
      "metadata": {
        "id": "n9C_v_CF-4YO"
      }
    },
    {
      "cell_type": "code",
      "source": [
        "import warnings\n",
        "warnings.filterwarnings('ignore')"
      ],
      "metadata": {
        "id": "gMav5Zwj26Pr"
      },
      "execution_count": 73,
      "outputs": []
    },
    {
      "cell_type": "code",
      "source": [
        "# import wikipedia small dataset from hugging face\n",
        "import datasets\n",
        "pretraining_dataset = datasets.load_dataset(\"wikitext\", \"wikitext-103-v1\", split=\"train\")\n"
      ],
      "metadata": {
        "id": "jsMwA-Dt3AJe"
      },
      "execution_count": 74,
      "outputs": []
    },
    {
      "cell_type": "code",
      "source": [
        "# Display the dataset sample\n",
        "pretraining_dataset['text'][:5]"
      ],
      "metadata": {
        "colab": {
          "base_uri": "https://localhost:8080/"
        },
        "id": "JbzsmuZ04HhR",
        "outputId": "b5ec9d6b-5a23-4abd-b9be-d699daccec44"
      },
      "execution_count": 75,
      "outputs": [
        {
          "output_type": "execute_result",
          "data": {
            "text/plain": [
              "['',\n",
              " ' = Valkyria Chronicles III = \\n',\n",
              " '',\n",
              " ' Senjō no Valkyria 3 : <unk> Chronicles ( Japanese : 戦場のヴァルキュリア3 , lit . Valkyria of the Battlefield 3 ) , commonly referred to as Valkyria Chronicles III outside Japan , is a tactical role @-@ playing video game developed by Sega and Media.Vision for the PlayStation Portable . Released in January 2011 in Japan , it is the third game in the Valkyria series . Employing the same fusion of tactical and real @-@ time gameplay as its predecessors , the story runs parallel to the first game and follows the \" Nameless \" , a penal military unit serving the nation of Gallia during the Second Europan War who perform secret black operations and are pitted against the Imperial unit \" <unk> Raven \" . \\n',\n",
              " \" The game began development in 2010 , carrying over a large portion of the work done on Valkyria Chronicles II . While it retained the standard features of the series , it also underwent multiple adjustments , such as making the game more forgiving for series newcomers . Character designer <unk> Honjou and composer Hitoshi Sakimoto both returned from previous entries , along with Valkyria Chronicles II director Takeshi Ozawa . A large team of writers handled the script . The game 's opening theme was sung by May 'n . \\n\"]"
            ]
          },
          "metadata": {},
          "execution_count": 75
        }
      ]
    },
    {
      "cell_type": "code",
      "source": [
        "# Load and display story dataset from hugging face datasets\n",
        "story_dataset = datasets.load_dataset(\"roneneldan/TinyStories\", split=\"train\")\n",
        "story_dataset['text'][:5]"
      ],
      "metadata": {
        "colab": {
          "base_uri": "https://localhost:8080/"
        },
        "id": "JBGoUV3Q6ucp",
        "outputId": "9af245c8-8407-4ed9-fbb0-b05c244af1b6"
      },
      "execution_count": 76,
      "outputs": [
        {
          "output_type": "execute_result",
          "data": {
            "text/plain": [
              "['One day, a little girl named Lily found a needle in her room. She knew it was difficult to play with it because it was sharp. Lily wanted to share the needle with her mom, so she could sew a button on her shirt.\\n\\nLily went to her mom and said, \"Mom, I found this needle. Can you share it with me and sew my shirt?\" Her mom smiled and said, \"Yes, Lily, we can share the needle and fix your shirt.\"\\n\\nTogether, they shared the needle and sewed the button on Lily\\'s shirt. It was not difficult for them because they were sharing and helping each other. After they finished, Lily thanked her mom for sharing the needle and fixing her shirt. They both felt happy because they had shared and worked together.',\n",
              " 'Once upon a time, there was a little car named Beep. Beep loved to go fast and play in the sun. Beep was a healthy car because he always had good fuel. Good fuel made Beep happy and strong.\\n\\nOne day, Beep was driving in the park when he saw a big tree. The tree had many leaves that were falling. Beep liked how the leaves fall and wanted to play with them. Beep drove under the tree and watched the leaves fall on him. He laughed and beeped his horn.\\n\\nBeep played with the falling leaves all day. When it was time to go home, Beep knew he needed more fuel. He went to the fuel place and got more healthy fuel. Now, Beep was ready to go fast and play again the next day. And Beep lived happily ever after.',\n",
              " 'One day, a little fish named Fin was swimming near the shore. He saw a big crab and wanted to be friends. \"Hi, I am Fin. Do you want to play?\" asked the little fish. The crab looked at Fin and said, \"No, I don\\'t want to play. I am cold and I don\\'t feel fine.\"\\n\\nFin felt sad but wanted to help the crab feel better. He swam away and thought of a plan. He remembered that the sun could make things warm. So, Fin swam to the top of the water and called to the sun, \"Please, sun, help my new friend feel fine and not freeze!\"\\n\\nThe sun heard Fin\\'s call and shone its warm light on the shore. The crab started to feel better and not so cold. He saw Fin and said, \"Thank you, little fish, for making me feel fine. I don\\'t feel like I will freeze now. Let\\'s play together!\" And so, Fin and the crab played and became good friends.',\n",
              " 'Once upon a time, in a land full of trees, there was a little cherry tree. The cherry tree was very sad because it did not have any friends. All the other trees were big and strong, but the cherry tree was small and weak. The cherry tree was envious of the big trees.\\n\\nOne day, the cherry tree felt a tickle in its branches. It was a little spring wind. The wind told the cherry tree not to be sad. The wind said, \"You are special because you have sweet cherries that everyone loves.\" The cherry tree started to feel a little better.\\n\\nAs time went on, the cherry tree grew more and more cherries. All the animals in the land came to eat the cherries and play under the cherry tree. The cherry tree was happy because it had many friends now. The cherry tree learned that being different can be a good thing. And they all lived happily ever after.',\n",
              " 'Once upon a time, there was a little girl named Lily. Lily liked to pretend she was a popular princess. She lived in a big castle with her best friends, a cat and a dog.\\n\\nOne day, while playing in the castle, Lily found a big cobweb. The cobweb was in the way of her fun game. She wanted to get rid of it, but she was scared of the spider that lived there.\\n\\nLily asked her friends, the cat and the dog, to help her. They all worked together to clean the cobweb. The spider was sad, but it found a new home outside. Lily, the cat, and the dog were happy they could play without the cobweb in the way. And they all lived happily ever after.']"
            ]
          },
          "metadata": {},
          "execution_count": 76
        }
      ]
    },
    {
      "cell_type": "markdown",
      "source": [
        "## 2. Scrape python code from Github"
      ],
      "metadata": {
        "id": "fUnafAWD_B7n"
      }
    },
    {
      "cell_type": "code",
      "source": [
        "import os\n",
        "import requests"
      ],
      "metadata": {
        "id": "ICwBiOgc_HC1"
      },
      "execution_count": 77,
      "outputs": []
    },
    {
      "cell_type": "code",
      "source": [
        "# Path to store all the python scripts\n",
        "code_dir = \"downloaded_scripts\"\n",
        "os.makedirs(code_dir, exist_ok=True)"
      ],
      "metadata": {
        "id": "0-2cbXkV_NAT"
      },
      "execution_count": 78,
      "outputs": []
    },
    {
      "cell_type": "code",
      "source": [
        "# Urls that has script for LLM Pretraining\n",
        "urls = [\n",
        "    \"https://raw.githubusercontent.com/TheAlgorithms/Python/master/searches/double_linear_search_recursion.py\",\n",
        "    \"https://raw.githubusercontent.com/KosingZhu/tensorflow/master/tensorflow/python/tools/module_util.py\",\n",
        "    \"https://raw.githubusercontent.com/EricRemmerswaal/tensorflow/master/tensorflow/python/distribute/distribute_coordinator_context.py\",\n",
        "    \"https://raw.githubusercontent.com/computationalartist/tensorflow/master/tensorflow/python/ops/numpy_ops/integration_test/benchmarks/numpy_mlp.py\",\n",
        "    \"https://raw.githubusercontent.com/Van-an/tensorflow/master/tensorflow/python/distribute/coordinator/values.py\",\n",
        "    \"https://raw.githubusercontent.com/nkgwer/tensorflow/master/tensorflow/lite/tools/visualize.py\",\n",
        "    \"https://raw.githubusercontent.com/gitblazer/youtube-dl/master/youtube_dl/version.py\",\n",
        "    \"https://raw.githubusercontent.com/Joshua-Barawa/My-Photos/master/venv/lib/python3.8/site-packages/django/contrib/messages/__init__.py\",\n",
        "    \"https://raw.githubusercontent.com/PaliC/pytorch/master/test/fx/test_subgraph_rewriter.py\"\n",
        "]"
      ],
      "metadata": {
        "id": "TeGcuSmF_SOY"
      },
      "execution_count": 79,
      "outputs": []
    },
    {
      "cell_type": "code",
      "source": [
        "# Fetch and store the scripts\n",
        "print(f'Fetching script from {len(urls)} files')\n",
        "for url in urls:\n",
        "  print(f\"Working on url: {url}\")\n",
        "  response = requests.get(url)\n",
        "  file_name = os.path.basename(url)\n",
        "  file_path = os.path.join(code_dir, file_name)\n",
        "  with open(file_path, 'wb') as file:\n",
        "    file.write(response.content)"
      ],
      "metadata": {
        "colab": {
          "base_uri": "https://localhost:8080/"
        },
        "id": "rhGTZV0b_dHE",
        "outputId": "01f1a19d-6278-4ab0-9501-1245c33e2a93"
      },
      "execution_count": 80,
      "outputs": [
        {
          "output_type": "stream",
          "name": "stdout",
          "text": [
            "Fetching script from 9 files\n",
            "Working on url: https://raw.githubusercontent.com/TheAlgorithms/Python/master/searches/double_linear_search_recursion.py\n",
            "Working on url: https://raw.githubusercontent.com/KosingZhu/tensorflow/master/tensorflow/python/tools/module_util.py\n",
            "Working on url: https://raw.githubusercontent.com/EricRemmerswaal/tensorflow/master/tensorflow/python/distribute/distribute_coordinator_context.py\n",
            "Working on url: https://raw.githubusercontent.com/computationalartist/tensorflow/master/tensorflow/python/ops/numpy_ops/integration_test/benchmarks/numpy_mlp.py\n",
            "Working on url: https://raw.githubusercontent.com/Van-an/tensorflow/master/tensorflow/python/distribute/coordinator/values.py\n",
            "Working on url: https://raw.githubusercontent.com/nkgwer/tensorflow/master/tensorflow/lite/tools/visualize.py\n",
            "Working on url: https://raw.githubusercontent.com/gitblazer/youtube-dl/master/youtube_dl/version.py\n",
            "Working on url: https://raw.githubusercontent.com/Joshua-Barawa/My-Photos/master/venv/lib/python3.8/site-packages/django/contrib/messages/__init__.py\n",
            "Working on url: https://raw.githubusercontent.com/PaliC/pytorch/master/test/fx/test_subgraph_rewriter.py\n"
          ]
        }
      ]
    },
    {
      "cell_type": "code",
      "source": [
        "# List all the downloaded scripts filenames\n",
        "files = os.listdir(code_dir)\n",
        "for file in files:\n",
        "  print(file)"
      ],
      "metadata": {
        "colab": {
          "base_uri": "https://localhost:8080/"
        },
        "id": "cNxjNSHb_7vZ",
        "outputId": "f0c4f7aa-56f5-4481-e808-dbe209a0e911"
      },
      "execution_count": 81,
      "outputs": [
        {
          "output_type": "stream",
          "name": "stdout",
          "text": [
            "version.py\n",
            "numpy_mlp.py\n",
            "distribute_coordinator_context.py\n",
            "double_linear_search_recursion.py\n",
            "module_util.py\n",
            "values.py\n",
            "__init__.py\n",
            "visualize.py\n",
            "test_subgraph_rewriter.py\n"
          ]
        }
      ]
    },
    {
      "cell_type": "code",
      "source": [
        "# Concatenate scripts into a list\n",
        "code_dataset = []\n",
        "for file in files:\n",
        "  file_path = os.path.join(code_dir, file)\n",
        "  with open(file_path, 'r') as file:\n",
        "    code = file.read()\n",
        "    code_dataset.append({'text': code})"
      ],
      "metadata": {
        "id": "LeAawoItAsbt"
      },
      "execution_count": 82,
      "outputs": []
    },
    {
      "cell_type": "code",
      "source": [
        "# Convert list to hugging face dataset format\n",
        "code_dataset = datasets.Dataset.from_list(code_dataset)\n",
        "code_dataset"
      ],
      "metadata": {
        "colab": {
          "base_uri": "https://localhost:8080/"
        },
        "id": "8WaD1HZZAvZi",
        "outputId": "ae03db12-42d2-4a98-9deb-4801196fa47a"
      },
      "execution_count": 83,
      "outputs": [
        {
          "output_type": "execute_result",
          "data": {
            "text/plain": [
              "Dataset({\n",
              "    features: ['text'],\n",
              "    num_rows: 9\n",
              "})"
            ]
          },
          "metadata": {},
          "execution_count": 83
        }
      ]
    },
    {
      "cell_type": "code",
      "source": [
        "# Combine code dataset to pretraining data set downloaded above\n",
        "print(f'Length of pretraining dataset: {len(pretraining_dataset)}')\n",
        "print(f'Length of code dataset: {len(code_dataset)}')\n",
        "sharded_dataset = datasets.concatenate_datasets([pretraining_dataset, code_dataset])\n",
        "sharded_dataset"
      ],
      "metadata": {
        "colab": {
          "base_uri": "https://localhost:8080/"
        },
        "id": "EyRvnCRWBVsr",
        "outputId": "6db66238-9725-4453-a5dc-933abbbd5836"
      },
      "execution_count": 84,
      "outputs": [
        {
          "output_type": "stream",
          "name": "stdout",
          "text": [
            "Length of pretraining dataset: 1801350\n",
            "Length of code dataset: 9\n"
          ]
        },
        {
          "output_type": "execute_result",
          "data": {
            "text/plain": [
              "Dataset({\n",
              "    features: ['text'],\n",
              "    num_rows: 1801359\n",
              "})"
            ]
          },
          "metadata": {},
          "execution_count": 84
        }
      ]
    },
    {
      "cell_type": "markdown",
      "source": [
        "## 3. Data Cleaning"
      ],
      "metadata": {
        "id": "bSpMW7KzB7jo"
      }
    },
    {
      "cell_type": "code",
      "source": [
        "# Display the number of rows in concatinated dataset\n",
        "sharded_dataset.num_rows"
      ],
      "metadata": {
        "id": "_1GA9GQZBxnW",
        "colab": {
          "base_uri": "https://localhost:8080/"
        },
        "outputId": "92571374-a2eb-4624-b92a-5f41d497e55d"
      },
      "execution_count": 85,
      "outputs": [
        {
          "output_type": "execute_result",
          "data": {
            "text/plain": [
              "1801359"
            ]
          },
          "metadata": {},
          "execution_count": 85
        }
      ]
    },
    {
      "cell_type": "code",
      "source": [
        "sharded_dataset['text'][:5]"
      ],
      "metadata": {
        "colab": {
          "base_uri": "https://localhost:8080/"
        },
        "id": "umjW-RX43-Bk",
        "outputId": "25ee9094-8936-4a55-d2b6-a89c030bcfa7"
      },
      "execution_count": 86,
      "outputs": [
        {
          "output_type": "execute_result",
          "data": {
            "text/plain": [
              "['',\n",
              " ' = Valkyria Chronicles III = \\n',\n",
              " '',\n",
              " ' Senjō no Valkyria 3 : <unk> Chronicles ( Japanese : 戦場のヴァルキュリア3 , lit . Valkyria of the Battlefield 3 ) , commonly referred to as Valkyria Chronicles III outside Japan , is a tactical role @-@ playing video game developed by Sega and Media.Vision for the PlayStation Portable . Released in January 2011 in Japan , it is the third game in the Valkyria series . Employing the same fusion of tactical and real @-@ time gameplay as its predecessors , the story runs parallel to the first game and follows the \" Nameless \" , a penal military unit serving the nation of Gallia during the Second Europan War who perform secret black operations and are pitted against the Imperial unit \" <unk> Raven \" . \\n',\n",
              " \" The game began development in 2010 , carrying over a large portion of the work done on Valkyria Chronicles II . While it retained the standard features of the series , it also underwent multiple adjustments , such as making the game more forgiving for series newcomers . Character designer <unk> Honjou and composer Hitoshi Sakimoto both returned from previous entries , along with Valkyria Chronicles II director Takeshi Ozawa . A large team of writers handled the script . The game 's opening theme was sung by May 'n . \\n\"]"
            ]
          },
          "metadata": {},
          "execution_count": 86
        }
      ]
    },
    {
      "cell_type": "code",
      "source": [
        "import re\n",
        "\n",
        "def clean_paragraph(paragraph):\n",
        "    text = paragraph[\"text\"]\n",
        "\n",
        "    # Skip empty lines\n",
        "    if not text.strip():\n",
        "        return None\n",
        "\n",
        "    # Split into sentences using punctuation\n",
        "    lines = re.split(r'[.!?]', text)\n",
        "    lines = [line.strip() for line in lines if line.strip()]\n",
        "    return lines\n"
      ],
      "metadata": {
        "id": "PdRc7moC5hDG"
      },
      "execution_count": 87,
      "outputs": []
    },
    {
      "cell_type": "code",
      "source": [
        "import heapq\n",
        "\n",
        "def paragraph_length_filter(paragraph):\n",
        "    lines = clean_paragraph(paragraph)\n",
        "    if not lines:\n",
        "        return False\n",
        "    if len(lines) < 3:\n",
        "        return False\n",
        "    if min(heapq.nlargest(3, [len(line) for line in lines])) < 3:\n",
        "        return False\n",
        "    return True\n"
      ],
      "metadata": {
        "id": "iMo5np5z5iFf"
      },
      "execution_count": 88,
      "outputs": []
    },
    {
      "cell_type": "code",
      "source": [
        "filtered = sharded_dataset.filter(paragraph_length_filter)\n",
        "print(filtered[0])\n"
      ],
      "metadata": {
        "colab": {
          "base_uri": "https://localhost:8080/"
        },
        "id": "ta1SinCC5mN6",
        "outputId": "c5690c45-08a5-4899-a9cc-e0deec49e27f"
      },
      "execution_count": 89,
      "outputs": [
        {
          "output_type": "stream",
          "name": "stdout",
          "text": [
            "{'text': ' Senjō no Valkyria 3 : <unk> Chronicles ( Japanese : 戦場のヴァルキュリア3 , lit . Valkyria of the Battlefield 3 ) , commonly referred to as Valkyria Chronicles III outside Japan , is a tactical role @-@ playing video game developed by Sega and Media.Vision for the PlayStation Portable . Released in January 2011 in Japan , it is the third game in the Valkyria series . Employing the same fusion of tactical and real @-@ time gameplay as its predecessors , the story runs parallel to the first game and follows the \" Nameless \" , a penal military unit serving the nation of Gallia during the Second Europan War who perform secret black operations and are pitted against the Imperial unit \" <unk> Raven \" . \\n'}\n"
          ]
        }
      ]
    },
    {
      "cell_type": "code",
      "source": [
        "filtered.num_rows"
      ],
      "metadata": {
        "colab": {
          "base_uri": "https://localhost:8080/"
        },
        "id": "0lCaUlu55t15",
        "outputId": "e0346940-e7dd-4652-9419-36215d2bb64c"
      },
      "execution_count": 90,
      "outputs": [
        {
          "output_type": "execute_result",
          "data": {
            "text/plain": [
              "629564"
            ]
          },
          "metadata": {},
          "execution_count": 90
        }
      ]
    },
    {
      "cell_type": "markdown",
      "source": [
        "### After cleaning 1801359 -> 629564"
      ],
      "metadata": {
        "id": "EgmIcTfv8LjP"
      }
    },
    {
      "cell_type": "code",
      "source": [
        "# Find the number of repetitions in the paragraphs.\n",
        "def find_duplicates(paragraphs):\n",
        "  unique_x = set()\n",
        "  duplicate_chars = 0\n",
        "  duplicate_elements = 0\n",
        "  for element in paragraphs:\n",
        "    if element in unique_x:\n",
        "      duplicate_chars += len(element)\n",
        "      duplicate_elements += 1\n",
        "    else:\n",
        "      unique_x.add(element)\n",
        "  return duplicate_elements, duplicate_chars"
      ],
      "metadata": {
        "id": "OC1IkyIl_WT1"
      },
      "execution_count": 91,
      "outputs": []
    },
    {
      "cell_type": "code",
      "source": [
        "import re\n",
        "\n",
        "def paragraph_reperation_filter(x):\n",
        "  text = x['text']\n",
        "  paragraphs = re.compile(r'\\n{2,}').split(text.strip())\n",
        "  paragraphs_duplicates, char_duplicates = find_duplicates(paragraphs)\n",
        "  if paragraphs_duplicates/len(paragraphs) > 0.3:\n",
        "    return False\n",
        "  if char_duplicates/len(text) > 0.2:\n",
        "    return False\n",
        "  return True\n"
      ],
      "metadata": {
        "id": "1S88dnSd332a"
      },
      "execution_count": 92,
      "outputs": []
    },
    {
      "cell_type": "code",
      "source": [
        "unique_dataset = filtered.filter(paragraph_reperation_filter, load_from_cache_file=False)"
      ],
      "metadata": {
        "id": "ekbTxcbU_5X8"
      },
      "execution_count": null,
      "outputs": []
    },
    {
      "cell_type": "code",
      "source": [
        "unique_dataset.num_rows"
      ],
      "metadata": {
        "colab": {
          "base_uri": "https://localhost:8080/"
        },
        "id": "kuqgeRsTADLS",
        "outputId": "b8fe6e92-ec55-4736-9d99-87490074608b"
      },
      "execution_count": 94,
      "outputs": [
        {
          "output_type": "execute_result",
          "data": {
            "text/plain": [
              "629563"
            ]
          },
          "metadata": {},
          "execution_count": 94
        }
      ]
    },
    {
      "cell_type": "code",
      "source": [
        "print(f'Removed {filtered.num_rows - unique_dataset.num_rows}')"
      ],
      "metadata": {
        "colab": {
          "base_uri": "https://localhost:8080/"
        },
        "id": "eA_GEqtfAV0i",
        "outputId": "342179e0-b4ee-43ac-a76b-f525a744fadf"
      },
      "execution_count": 95,
      "outputs": [
        {
          "output_type": "stream",
          "name": "stdout",
          "text": [
            "Removed 1\n"
          ]
        }
      ]
    },
    {
      "cell_type": "code",
      "source": [
        "# Remove duplicate entries\n",
        "def deduplication(ds):\n",
        "  def dedup_func(x):\n",
        "    if x['text'] in unique_text:\n",
        "      return False\n",
        "    else :\n",
        "      unique_text.add(x['text'])\n",
        "      return True\n",
        "\n",
        "  unique_text = set()\n",
        "  return ds.filter(dedup_func, load_from_cache_file=False, num_proc=1)\n",
        "\n",
        "deduplicated_dataset = deduplication(unique_dataset)"
      ],
      "metadata": {
        "id": "7EEY9ZxaAnq7"
      },
      "execution_count": null,
      "outputs": []
    },
    {
      "cell_type": "code",
      "source": [
        "print(f'Removed {unique_dataset.num_rows - deduplicated_dataset.num_rows} rows')"
      ],
      "metadata": {
        "colab": {
          "base_uri": "https://localhost:8080/"
        },
        "id": "1h74vVRECDlJ",
        "outputId": "dc3942bc-23d6-4a23-ec49-e2327a4de05f"
      },
      "execution_count": 97,
      "outputs": [
        {
          "output_type": "stream",
          "name": "stdout",
          "text": [
            "Removed 7750 rows\n"
          ]
        }
      ]
    },
    {
      "cell_type": "code",
      "source": [
        "deduplicated_dataset.num_rows"
      ],
      "metadata": {
        "colab": {
          "base_uri": "https://localhost:8080/"
        },
        "id": "wEvGuIexCWwa",
        "outputId": "51db7543-1b5d-4249-ae79-d7d456d4159d"
      },
      "execution_count": 98,
      "outputs": [
        {
          "output_type": "execute_result",
          "data": {
            "text/plain": [
              "621813"
            ]
          },
          "metadata": {},
          "execution_count": 98
        }
      ]
    },
    {
      "cell_type": "code",
      "source": [
        "# Filter entries for english language only\n",
        "from langdetect import detect, DetectorFactory\n",
        "from langdetect.lang_detect_exception import LangDetectException\n",
        "\n",
        "DetectorFactory.seed = 0\n",
        "\n",
        "def english_language_filter(ds):\n",
        "\n",
        "  def is_english(text):\n",
        "      try:\n",
        "          if isinstance(text, list):\n",
        "                text = \" \".join(text)\n",
        "          if detect(text['text']) == \"en\":\n",
        "            return True\n",
        "          else:\n",
        "            return False\n",
        "      except LangDetectException:\n",
        "          return False\n",
        "  return ds.filter(is_english, load_from_cache_file=False, num_proc=4)\n",
        "\n",
        "english_dataset = english_language_filter(deduplicated_dataset)\n",
        "\n",
        "print(english_dataset.num_rows)"
      ],
      "metadata": {
        "id": "W0voQdaugXPZ"
      },
      "execution_count": null,
      "outputs": []
    },
    {
      "cell_type": "code",
      "source": [
        "print(f'English rows {english_dataset.num_rows}')\n",
        "print(f'Removed {deduplicated_dataset.num_rows - english_dataset.num_rows} rows')"
      ],
      "metadata": {
        "colab": {
          "base_uri": "https://localhost:8080/"
        },
        "id": "5hwbTVGrKY-c",
        "outputId": "298a4ea0-0901-46de-cc19-e2ae9668edf7"
      },
      "execution_count": 101,
      "outputs": [
        {
          "output_type": "stream",
          "name": "stdout",
          "text": [
            "English rows 620583\n",
            "Removed 1230 rows\n"
          ]
        }
      ]
    },
    {
      "cell_type": "code",
      "source": [
        "# Saved processed english dataset to parquet file\n",
        "file_path = 'processed_dataset.parquet'\n",
        "english_dataset.to_parquet(file_path)"
      ],
      "metadata": {
        "id": "1tpNQIdp4czG"
      },
      "execution_count": null,
      "outputs": []
    },
    {
      "cell_type": "markdown",
      "source": [
        "## 4. Data Packaging: Tokenizing + Packing\n",
        "Tokenizing: Breaking each text into smaller, meaningful unnitss, which are called tokens\n",
        "Packing: Packing tokens intothe maximum sequence length to imrpove training efficiency\n"
      ],
      "metadata": {
        "id": "OpUCmOr4el90"
      }
    },
    {
      "cell_type": "markdown",
      "source": [
        "### 4.1 Tokening"
      ],
      "metadata": {
        "id": "dG04cctPn-wk"
      }
    },
    {
      "cell_type": "code",
      "source": [
        "# Load parquet file data\n",
        "import datasets\n",
        "dataset = datasets.load_dataset('parquet', data_files='/content/processed_dataset.parquet', split='train')\n",
        "dataset"
      ],
      "metadata": {
        "colab": {
          "base_uri": "https://localhost:8080/"
        },
        "id": "qzDTSW9WcMv2",
        "outputId": "0c17d998-85f6-4fe1-c7be-5d1a9302d493"
      },
      "execution_count": 149,
      "outputs": [
        {
          "output_type": "execute_result",
          "data": {
            "text/plain": [
              "Dataset({\n",
              "    features: ['text'],\n",
              "    num_rows: 620583\n",
              "})"
            ]
          },
          "metadata": {},
          "execution_count": 149
        }
      ]
    },
    {
      "cell_type": "code",
      "source": [
        "# Split dataset into smaller pieces for distributed processing\n",
        "sharded_dataset = dataset.shard(num_shards=10, index=0)\n",
        "print(sharded_dataset)"
      ],
      "metadata": {
        "colab": {
          "base_uri": "https://localhost:8080/"
        },
        "id": "KQW4fFbIi6-q",
        "outputId": "91c87ce9-daae-4cfa-ef88-00f807b9aac0"
      },
      "execution_count": 150,
      "outputs": [
        {
          "output_type": "stream",
          "name": "stdout",
          "text": [
            "Dataset({\n",
            "    features: ['text'],\n",
            "    num_rows: 62059\n",
            "})\n"
          ]
        }
      ]
    },
    {
      "cell_type": "code",
      "source": [
        "# Load the tokenizer\n",
        "from transformers import AutoTokenizer\n",
        "model_to_path_or_name='upstage/Solar-10.7B-v1.0'\n",
        "tokenizer = AutoTokenizer.from_pretrained(model_to_path_or_name, use_fast=False)"
      ],
      "metadata": {
        "id": "qIndV-cIjQ_4"
      },
      "execution_count": 151,
      "outputs": []
    },
    {
      "cell_type": "code",
      "source": [
        "# test tokenization\n",
        "tokenizer.tokenize('I am utkarsh gupta')"
      ],
      "metadata": {
        "colab": {
          "base_uri": "https://localhost:8080/"
        },
        "id": "bMd84F-8kUCd",
        "outputId": "13ae2e63-8070-4ee0-d37a-fae12cde3a5d"
      },
      "execution_count": 152,
      "outputs": [
        {
          "output_type": "execute_result",
          "data": {
            "text/plain": [
              "['▁I', '▁am', '▁ut', 'kar', 'sh', '▁gu', 'pt', 'a']"
            ]
          },
          "metadata": {},
          "execution_count": 152
        }
      ]
    },
    {
      "cell_type": "code",
      "source": [
        "#  Create a helper function to convert text into numbers\n",
        "def tokenization(example):\n",
        "  tokens = tokenizer.tokenize(example['text'])\n",
        "  token_ids = tokenizer.convert_tokens_to_ids(tokens)\n",
        "  # Add <bos><eos> to tokens_ids\n",
        "  token_ids = [tokenizer.bos_token_id] + token_ids + [tokenizer.eos_token_id]\n",
        "  example['input_ids'] = token_ids\n",
        "  example['num_tokens'] = len(token_ids)\n",
        "  return example"
      ],
      "metadata": {
        "id": "QfF26Ca7kkvp"
      },
      "execution_count": 156,
      "outputs": []
    },
    {
      "cell_type": "code",
      "source": [
        "tokenized_dataset = sharded_dataset.map(tokenization, load_from_cache_file=False)"
      ],
      "metadata": {
        "colab": {
          "base_uri": "https://localhost:8080/",
          "height": 49,
          "referenced_widgets": [
            "918e9db0419547f4b24498e7c152cabe",
            "d9320651aa7e4473ab65e1998e7bca09",
            "a4689711ef1147499c5bd187d903d8cb",
            "1b37136e63ab4ba78d49bc6539110ff9",
            "450a93f8ff9e4f199ebd2e5eea3a13eb",
            "0dfddf6eb5e94f24abcf62b760370521",
            "d0c812819ee54ad0b58f10155e20d829",
            "8212bbcf0ff0496a81d50f17a7116f56",
            "95321a870fec4b61a719a6edfac58148",
            "08ad87a3c6c54eda8a405736926e42ff",
            "d7c6f51aaf0346d0a19ee19e9d6a080d"
          ]
        },
        "id": "9WiIrFU1llUa",
        "outputId": "2f489f9e-4021-4d5f-f560-562b301e2a0c"
      },
      "execution_count": 157,
      "outputs": [
        {
          "output_type": "display_data",
          "data": {
            "text/plain": [
              "Map:   0%|          | 0/62059 [00:00<?, ? examples/s]"
            ],
            "application/vnd.jupyter.widget-view+json": {
              "version_major": 2,
              "version_minor": 0,
              "model_id": "918e9db0419547f4b24498e7c152cabe"
            }
          },
          "metadata": {}
        }
      ]
    },
    {
      "cell_type": "code",
      "source": [
        "print(tokenized_dataset)\n",
        "print(tokenized_dataset[:2])"
      ],
      "metadata": {
        "colab": {
          "base_uri": "https://localhost:8080/"
        },
        "id": "1YPFE-kflywv",
        "outputId": "e496cd78-c22f-4efe-b481-43acbb9513c2"
      },
      "execution_count": 158,
      "outputs": [
        {
          "output_type": "stream",
          "name": "stdout",
          "text": [
            "Dataset({\n",
            "    features: ['text', 'input_ids', 'num_tokens'],\n",
            "    num_rows: 62059\n",
            "})\n",
            "{'text': [' Senjō no Valkyria 3 : <unk> Chronicles ( Japanese : 戦場のヴァルキュリア3 , lit . Valkyria of the Battlefield 3 ) , commonly referred to as Valkyria Chronicles III outside Japan , is a tactical role @-@ playing video game developed by Sega and Media.Vision for the PlayStation Portable . Released in January 2011 in Japan , it is the third game in the Valkyria series . Employing the same fusion of tactical and real @-@ time gameplay as its predecessors , the story runs parallel to the first game and follows the \" Nameless \" , a penal military unit serving the nation of Gallia during the Second Europan War who perform secret black operations and are pitted against the Imperial unit \" <unk> Raven \" . \\n', \" The game began development in 2010 , carrying over a large portion of the work done on Valkyria Chronicles II . While it retained the standard features of the series , it also underwent multiple adjustments , such as making the game more forgiving for series newcomers . Character designer <unk> Honjou and composer Hitoshi Sakimoto both returned from previous entries , along with Valkyria Chronicles II director Takeshi Ozawa . A large team of writers handled the script . The game 's opening theme was sung by May 'n . \\n\"], 'input_ids': [[1, 28705, 5355, 28768, 28934, 708, 550, 1093, 28724, 3931, 28705, 28770, 714, 28705, 0, 28705, 23967, 4992, 325, 8092, 714, 28705, 30842, 30016, 28993, 31428, 30000, 29182, 29753, 30051, 29306, 29322, 28770, 1200, 8724, 842, 550, 1093, 28724, 3931, 302, 272, 13711, 2222, 28705, 28770, 1143, 1200, 14473, 11449, 298, 390, 550, 1093, 28724, 3931, 23967, 4992, 6950, 3536, 4720, 1200, 349, 264, 12529, 745, 3905, 802, 28733, 28818, 4543, 3798, 2039, 6202, 486, 318, 4770, 304, 9347, 28723, 28790, 1522, 354, 272, 6879, 23558, 4194, 522, 842, 1298, 22246, 297, 4624, 28705, 28750, 28734, 28740, 28740, 297, 4720, 1200, 378, 349, 272, 4008, 2039, 297, 272, 550, 1093, 28724, 3931, 3518, 842, 2929, 2193, 288, 272, 1348, 22104, 302, 12529, 745, 304, 1353, 802, 28733, 28818, 727, 2039, 1674, 390, 871, 27060, 734, 1200, 272, 2838, 7825, 12635, 298, 272, 907, 2039, 304, 6104, 272, 345, 16908, 6199, 345, 1200, 264, 15572, 5469, 5028, 10732, 272, 5878, 302, 14225, 515, 1938, 272, 7052, 10122, 276, 3273, 693, 2225, 5169, 2687, 6933, 304, 460, 284, 3309, 1835, 272, 22032, 5028, 345, 28705, 0, 28705, 399, 3146, 345, 842, 28705, 13, 2], [1, 28705, 415, 2039, 3125, 4099, 297, 28705, 28750, 28734, 28740, 28734, 1200, 10839, 754, 264, 2475, 11580, 302, 272, 771, 2203, 356, 550, 1093, 28724, 3931, 23967, 4992, 3717, 842, 4023, 378, 25764, 272, 4787, 4190, 302, 272, 3518, 1200, 378, 835, 916, 28727, 308, 5166, 7392, 1339, 1200, 1259, 390, 2492, 272, 2039, 680, 12706, 2449, 354, 3518, 633, 675, 404, 842, 23471, 15914, 28705, 0, 28705, 7673, 28768, 280, 304, 24983, 11288, 27605, 24586, 321, 2587, 1560, 4253, 477, 3454, 11507, 1200, 2267, 395, 550, 1093, 28724, 3931, 23967, 4992, 3717, 6859, 320, 1593, 5365, 28321, 8733, 842, 330, 2475, 1918, 302, 12488, 15570, 272, 6767, 842, 415, 2039, 464, 28713, 7032, 7335, 403, 27173, 486, 2246, 464, 28711, 842, 28705, 13, 2]], 'num_tokens': [192, 126]}\n"
          ]
        }
      ]
    },
    {
      "cell_type": "code",
      "source": [
        "# Calculate the total number of tokens in the dataset\n",
        "import numpy as np\n",
        "np.sum(tokenized_dataset['num_tokens'])"
      ],
      "metadata": {
        "colab": {
          "base_uri": "https://localhost:8080/"
        },
        "id": "uqido6Pumrvr",
        "outputId": "b5ca20bc-7cc8-4b9a-b018-db296024db05"
      },
      "execution_count": 159,
      "outputs": [
        {
          "output_type": "execute_result",
          "data": {
            "text/plain": [
              "np.int64(12188371)"
            ]
          },
          "metadata": {},
          "execution_count": 159
        }
      ]
    },
    {
      "cell_type": "markdown",
      "source": [
        "### 4.2 Packing the data\n",
        "- concatinating all the token ids, known as serilization.\n",
        "- Reshape the large list by partitioning the list into smaller list with the max sequence list"
      ],
      "metadata": {
        "id": "GkvCE4HhoCKQ"
      }
    },
    {
      "cell_type": "code",
      "source": [
        "input_ids = np.concatenate(tokenized_dataset['input_ids'])\n",
        "len(input_ids)"
      ],
      "metadata": {
        "colab": {
          "base_uri": "https://localhost:8080/"
        },
        "id": "4xOR85xioI7i",
        "outputId": "95f7f042-8b9b-4051-e002-fb27d1248877"
      },
      "execution_count": 161,
      "outputs": [
        {
          "output_type": "execute_result",
          "data": {
            "text/plain": [
              "12188371"
            ]
          },
          "metadata": {},
          "execution_count": 161
        }
      ]
    },
    {
      "cell_type": "code",
      "source": [
        "# max sequence length\n",
        "max_seq_length=32\n"
      ],
      "metadata": {
        "id": "HyRlYV2rpASS"
      },
      "execution_count": 162,
      "outputs": []
    },
    {
      "cell_type": "code",
      "source": [
        "# length of the ids, so that remainder is 0 when divided by max_seq_length\n",
        "total_length = len(input_ids) - len(input_ids) % max_seq_length\n",
        "total_length"
      ],
      "metadata": {
        "colab": {
          "base_uri": "https://localhost:8080/"
        },
        "id": "XJaQ1pQIpgcD",
        "outputId": "30b93994-3fe3-4b14-c21c-b89de3f2d62a"
      },
      "execution_count": 164,
      "outputs": [
        {
          "output_type": "execute_result",
          "data": {
            "text/plain": [
              "12188352"
            ]
          },
          "metadata": {},
          "execution_count": 164
        }
      ]
    },
    {
      "cell_type": "code",
      "source": [
        "input_ids = input_ids[:total_length]\n",
        "input_ids.shape"
      ],
      "metadata": {
        "colab": {
          "base_uri": "https://localhost:8080/"
        },
        "id": "GamQXNp_ppi4",
        "outputId": "f8689bd8-bac2-4fad-c213-2c2da4dd5fbf"
      },
      "execution_count": 165,
      "outputs": [
        {
          "output_type": "execute_result",
          "data": {
            "text/plain": [
              "(12188352,)"
            ]
          },
          "metadata": {},
          "execution_count": 165
        }
      ]
    },
    {
      "cell_type": "code",
      "source": [
        "# Reshape the input ids\n",
        "input_ids_reshaped = input_ids.reshape(-1, max_seq_length).astype(np.int32)\n",
        "input_ids_reshaped.shape"
      ],
      "metadata": {
        "colab": {
          "base_uri": "https://localhost:8080/"
        },
        "id": "yMh0tv9aqjX3",
        "outputId": "ad7127ae-bf73-44cd-f9e6-8e08c70cf272"
      },
      "execution_count": 166,
      "outputs": [
        {
          "output_type": "execute_result",
          "data": {
            "text/plain": [
              "(380886, 32)"
            ]
          },
          "metadata": {},
          "execution_count": 166
        }
      ]
    },
    {
      "cell_type": "code",
      "source": [
        "# See exmaple of reshaped input ids\n",
        "input_ids_reshaped[0]"
      ],
      "metadata": {
        "colab": {
          "base_uri": "https://localhost:8080/"
        },
        "id": "oiIW2M5YqtZW",
        "outputId": "f6ce653f-78e3-45a1-e1ee-a807ec4bcaff"
      },
      "execution_count": 167,
      "outputs": [
        {
          "output_type": "execute_result",
          "data": {
            "text/plain": [
              "array([    1, 28705,  5355, 28768, 28934,   708,   550,  1093, 28724,\n",
              "        3931, 28705, 28770,   714, 28705,     0, 28705, 23967,  4992,\n",
              "         325,  8092,   714, 28705, 30842, 30016, 28993, 31428, 30000,\n",
              "       29182, 29753, 30051, 29306, 29322], dtype=int32)"
            ]
          },
          "metadata": {},
          "execution_count": 167
        }
      ]
    },
    {
      "cell_type": "code",
      "source": [
        "# convert reshaped input ids to hugging face dataset\n",
        "input_ids_list = input_ids_reshaped.tolist()\n",
        "packged_pretrain_dataset = datasets.Dataset.from_dict({'input_ids': input_ids_list})\n",
        "packged_pretrain_dataset"
      ],
      "metadata": {
        "colab": {
          "base_uri": "https://localhost:8080/"
        },
        "id": "3PawNHvOq7KD",
        "outputId": "65210df8-588d-4a91-9622-527b8ca7da02"
      },
      "execution_count": 170,
      "outputs": [
        {
          "output_type": "execute_result",
          "data": {
            "text/plain": [
              "Dataset({\n",
              "    features: ['input_ids'],\n",
              "    num_rows: 380886\n",
              "})"
            ]
          },
          "metadata": {},
          "execution_count": 170
        }
      ]
    },
    {
      "cell_type": "code",
      "source": [
        "packged_pretrain_dataset.to_parquet('packged_pretrain_dataset.parquet')\n",
        ""
      ],
      "metadata": {
        "id": "_pDo-mLgrE9g"
      },
      "execution_count": null,
      "outputs": []
    },
    {
      "cell_type": "code",
      "source": [
        "# download the packged pretrain dataset locally or save to google drive for model training part\n",
        "from google.colab import files\n",
        "files.download(\"/content/packged_pretrain_dataset.parquet\")"
      ],
      "metadata": {
        "colab": {
          "base_uri": "https://localhost:8080/",
          "height": 17
        },
        "id": "za-eXpPJrcUP",
        "outputId": "64a2ee1f-d0c4-4204-cb02-b4116302e647"
      },
      "execution_count": 175,
      "outputs": [
        {
          "output_type": "display_data",
          "data": {
            "text/plain": [
              "<IPython.core.display.Javascript object>"
            ],
            "application/javascript": [
              "\n",
              "    async function download(id, filename, size) {\n",
              "      if (!google.colab.kernel.accessAllowed) {\n",
              "        return;\n",
              "      }\n",
              "      const div = document.createElement('div');\n",
              "      const label = document.createElement('label');\n",
              "      label.textContent = `Downloading \"${filename}\": `;\n",
              "      div.appendChild(label);\n",
              "      const progress = document.createElement('progress');\n",
              "      progress.max = size;\n",
              "      div.appendChild(progress);\n",
              "      document.body.appendChild(div);\n",
              "\n",
              "      const buffers = [];\n",
              "      let downloaded = 0;\n",
              "\n",
              "      const channel = await google.colab.kernel.comms.open(id);\n",
              "      // Send a message to notify the kernel that we're ready.\n",
              "      channel.send({})\n",
              "\n",
              "      for await (const message of channel.messages) {\n",
              "        // Send a message to notify the kernel that we're ready.\n",
              "        channel.send({})\n",
              "        if (message.buffers) {\n",
              "          for (const buffer of message.buffers) {\n",
              "            buffers.push(buffer);\n",
              "            downloaded += buffer.byteLength;\n",
              "            progress.value = downloaded;\n",
              "          }\n",
              "        }\n",
              "      }\n",
              "      const blob = new Blob(buffers, {type: 'application/binary'});\n",
              "      const a = document.createElement('a');\n",
              "      a.href = window.URL.createObjectURL(blob);\n",
              "      a.download = filename;\n",
              "      div.appendChild(a);\n",
              "      a.click();\n",
              "      div.remove();\n",
              "    }\n",
              "  "
            ]
          },
          "metadata": {}
        },
        {
          "output_type": "display_data",
          "data": {
            "text/plain": [
              "<IPython.core.display.Javascript object>"
            ],
            "application/javascript": [
              "download(\"download_ca5db181-97c1-42dd-a9a6-60f196461451\", \"packged_pretrain_dataset.parquet\", 26909659)"
            ]
          },
          "metadata": {}
        }
      ]
    }
  ]
}